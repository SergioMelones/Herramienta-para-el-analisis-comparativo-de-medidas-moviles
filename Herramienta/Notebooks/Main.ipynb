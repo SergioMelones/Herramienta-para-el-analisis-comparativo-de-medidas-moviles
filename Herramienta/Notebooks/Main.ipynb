{
 "cells": [
  {
   "cell_type": "markdown",
   "id": "097cc6df",
   "metadata": {},
   "source": [
    "# Herramienta para el análisis comparativo de medidas colaborativas y medidas ad hoc"
   ]
  },
  {
   "cell_type": "code",
   "execution_count": null,
   "id": "4b5d24b2",
   "metadata": {},
   "outputs": [],
   "source": [
    "import pandas as pd\n",
    "%run Processing.ipynb\n",
    "%run Preprocessing.ipynb\n",
    "%run Graphs.ipynb"
   ]
  },
  {
   "cell_type": "markdown",
   "id": "087aeb51",
   "metadata": {},
   "source": [
    "## Cargar csv"
   ]
  },
  {
   "cell_type": "code",
   "execution_count": null,
   "id": "0fe51538",
   "metadata": {},
   "outputs": [],
   "source": [
    "# Ruta a los archivos de las celdas, drive test y crowdsourced (no cambiar el nombre de las variables)\n",
    "celdas = pd.read_csv('../Datos/Celdas/[].csv')\n",
    "drive_test = pd.read_csv('../Datos/Drive Test/[].csv')\n",
    "crowdsourced = pd.read_csv('../Datos/Crowdsourced/[].csv')\n",
    "\n",
    "# Ruta al polígono en caso de querer filtrar, si no dejar en None\n",
    "Poligono = '../Datos/[].wkt'\n",
    "\n",
    "# Operador por el que filtrar celdas y conexiones ('Movistar', 'Orange', ...), si no dejar en None\n",
    "Operador = 'Movistar'"
   ]
  },
  {
   "cell_type": "markdown",
   "id": "bd07bb89",
   "metadata": {},
   "source": [
    "## Preprocesado\n",
    "### Funciones:\n",
    "**preprocess_dataframe_celdas:**\n",
    "- Argumentos: \n",
    "    - celdas (pandas.DataFrame): El DataFrame inicial con las celdas.  \n",
    "    - Poligono (str): Ruta al archivo WKT que contiene el polígono (opcional).  \n",
    "    - Operador (str): Operador con el que se desea filtrar las celdas (opcional).  \n",
    "- Returns:\n",
    "    - celdas (pandas.DataFrame): El dataFrame preprocesado con las celdas.\n",
    "      \n",
    "**preprocess_dataframe_drive_test:**\n",
    "- Argumentos: \n",
    "    - drive_test (pandas.DataFrame): El DataFrame inicial con las medidas del drive test.  \n",
    "    - celdas (pandas.DataFrame): El DataFrame preprocesado con las celdas.  \n",
    "    - Poligono (str): Ruta al archivo WKT que contiene el polígono (opcional).\n",
    "    - ¿Incluir operador como otro argumento?\n",
    "- Returns:\n",
    "    - drive test (pandas.DataFrame) El DataFrame preprocesado con las medidas del drive test.\n",
    "      \n",
    "**preprocess_dataframe_crowdsourced:**\n",
    "- Argumentos:\n",
    "    - crowdsourced (pandas.DataFrame): El DataFrame inicial con las medidas crowdsourced.\n",
    "    - drive_test (pandas.DataFrame): El DataFrame preprocesadodo con las medidas del drive test.\n",
    "    - Poligono (str): Ruta al archivo WKT que contiene el polígono (opcional).  \n",
    "    - Operador (str): Operador con el que se desea filtrar las celdas (opcional). \n",
    "- Returns:\n",
    "    - crowdsourced (pandas.DataFrame): El DataFrame preprocesado con las medidas crowdsourced"
   ]
  },
  {
   "cell_type": "code",
   "execution_count": null,
   "id": "dc3cc0d3",
   "metadata": {},
   "outputs": [],
   "source": [
    "celdas = preprocess_dataframe_celdas(celdas, Poligono, Operador)\n",
    "drive_test = preprocess_dataframe_drive_test(drive_test, celdas, Poligono)\n",
    "crowdsourced = preprocess_dataframe_crowdsourced(crowdsourced,drive_test,Poligono,Operador)"
   ]
  },
  {
   "cell_type": "markdown",
   "id": "3608a2e6",
   "metadata": {},
   "source": [
    "## Procesado\n",
    "### Funciones\n",
    "**process_dataframe:**\n",
    "- Argumentos (Se utilizan los mismos DataFrames para el conjunto de las medidas crowdsourced): \n",
    "    - drive_test (pandas.DataFrame): El DataFrame preprocesado con las medidas del drive test.   \n",
    "- Returns (Se devuelven los mismos DataFrames para el conjunto de las medidas crowdsourced):\n",
    "    - drive_test_procesado (pandas.DataFrame): El DataFrame procesado con las medidas del drive test.\n",
    "      \n",
    "**process_dataframe_rsrp_rsrq:**\n",
    "- Argumentos (Se utilizan los mismos DataFrames para el conjunto de las medidas crowdsourced): \n",
    "    - drive_test_procesado (pandas.DataFrame): El DataFrame procesado con las medidas del drive test. \n",
    "    - drive_test (pandas.DataFrame): El DataFrame preprocesado con las medidas del drive test.\n",
    "- Returns (Se devuelven los mismos DataFrames para el conjunto de las medidas crowdsourced):\n",
    "    - rsrp_drive_test (pandas.DataFrame): El DataFrame con la RSRP media calculada para las medidas del drive test.\n",
    "    - rsrq_drive_test (pandas.DataFrame): El DataFrame con la RSRQ media calculada para las medidas del drive test.\n",
    "      \n",
    "**filtrar_coincidencias:**\n",
    "- Argumentos:\n",
    "    - rsrp_drive_test (pandas.DataFrame): El DataFrame con la RSRP media calculada para las medidas del drive test.\n",
    "    - rsrp_crowdsourced (pandas.DataFrame): El DataFrame con la RSRP media calculada para las medidas crowdsourced.\n",
    "    - rsrq_drive_test (pandas.DataFrame): El DataFrame con la RSRQ media calculada para las medidas del drive test.\n",
    "    - rsrq_crowdsourced (pandas.DataFrame): El DataFrame con la RSRQ media calculada para las medidas crowdsourced.\n",
    "- Returns:\n",
    "    - rsrp_drive_test (pandas.DataFrame): El DataFrame con la RSRP media calculada para las medidas del drive test filtrando aquellas medidas que estén también en el conjunto de datos crowdsourced.\n",
    "    - rsrp_crowdsourced (pandas.DataFrame): El DataFrame con la RSRP media calculada para las medidas crowdsourced filtrando aquellas medidas que estén también en el conjunto de datos del drive test.\n",
    "    - rsrq_drive_test (pandas.DataFrame): El DataFrame con la RSRQ media calculada para las medidas del drive test filtrando aquellas medidas que estén también en el conjunto de datos crowdsourced.\n",
    "    - rsrq_crowdsourced (pandas.DataFrame): El DataFrame con la RSRQ media calculada para las medidas crowdsourced filtrando aquellas medidas que estén también en el conjunto de datos del drive test."
   ]
  },
  {
   "cell_type": "code",
   "execution_count": null,
   "id": "3404ec79",
   "metadata": {},
   "outputs": [],
   "source": [
    "drive_test_procesado = process_dataframe(drive_test)\n",
    "crowdsourced_procesado = process_dataframe(crowdsourced)"
   ]
  },
  {
   "cell_type": "code",
   "execution_count": null,
   "id": "838d3464",
   "metadata": {},
   "outputs": [],
   "source": [
    "rsrp_drive_test, rsrq_drive_test = process_dataframe_rsrp_rsrq(drive_test_procesado, drive_test)\n",
    "rsrp_crowdsourced, rsrq_crowdsourced = process_dataframe_rsrp_rsrq(crowdsourced_procesado, crowdsourced)"
   ]
  },
  {
   "cell_type": "code",
   "execution_count": null,
   "id": "a676a393",
   "metadata": {},
   "outputs": [],
   "source": [
    "rsrp_drive_test, rsrp_crowdsourced, rsrq_drive_test, rsrq_crowdsourced = filtrar_coincidencias(rsrp_drive_test, rsrp_crowdsourced, rsrq_drive_test, rsrq_crowdsourced)"
   ]
  },
  {
   "cell_type": "markdown",
   "id": "4b05a335",
   "metadata": {},
   "source": [
    "# Resultados"
   ]
  },
  {
   "cell_type": "markdown",
   "id": "07992172",
   "metadata": {},
   "source": [
    "Descomentar cada celda en función de los gráficos que se quieran"
   ]
  },
  {
   "cell_type": "markdown",
   "id": "a2f61b3c",
   "metadata": {},
   "source": [
    "# Histograma para comparar RSRP entre drive test y crowdsourced"
   ]
  },
  {
   "cell_type": "markdown",
   "id": "ab90f27e",
   "metadata": {},
   "source": [
    "**plot_rsrp:**\n",
    "- Argumentos: \n",
    "    - rsrp_drive_test (pandas.DataFrame): El DataFrame filtrado con la RSRP media calculada para las medidas del drive test.\n",
    "    - rsrp_crowdsourced (pandas.DataFrame): El DataFrame filtrado con la RSRP media calculada para las medidas crowdsourced.\n",
    "- Returns:\n",
    "    - Histograma de la RSRP para el conjunto de datos crowdsourced y para el conjunto de datos del drive test"
   ]
  },
  {
   "cell_type": "code",
   "execution_count": null,
   "id": "cf683123",
   "metadata": {},
   "outputs": [],
   "source": [
    "# plot_rsrp(rsrp_drive_test, rsrp_crowdsourced)"
   ]
  },
  {
   "cell_type": "markdown",
   "id": "6f1235a9",
   "metadata": {},
   "source": [
    "# Histograma para comparar RSRQ entre drive test y crowdsourced"
   ]
  },
  {
   "cell_type": "markdown",
   "id": "8f8d9e4d",
   "metadata": {},
   "source": [
    "**plot_rsrq:**\n",
    "- Argumentos: \n",
    "    - rsrq_drive_test (pandas.DataFrame): El DataFrame filtrado con la RSRQ media calculada para las medidas del drive test.\n",
    "    - rsrq_crowdsourced (pandas.DataFrame): El DataFrame filtrado con la RSRQ media calculada para las medidas crowdsourced.\n",
    "- Returns:\n",
    "    - Histograma de la RSRQ para el conjunto de datos crowdsourced y para el conjunto de datos del drive test"
   ]
  },
  {
   "cell_type": "code",
   "execution_count": null,
   "id": "660641aa",
   "metadata": {},
   "outputs": [],
   "source": [
    "# plot_rsrq(rsrq_drive_test, rsrq_crowdsourced)"
   ]
  },
  {
   "cell_type": "markdown",
   "id": "ca925bf5",
   "metadata": {},
   "source": [
    "# Histograma para comparar RSRP en función de la banda de frecuencia entre drive test y crowdsourced"
   ]
  },
  {
   "cell_type": "markdown",
   "id": "7705a111",
   "metadata": {},
   "source": [
    "**plot_rsrp_band_freq:**\n",
    "- Argumentos: \n",
    "    - rsrp_drive_test (pandas.DataFrame): El DataFrame filtrado con la RSRP media calculada para las medidas del drive test.\n",
    "    - rsrp_crowdsourced (pandas.DataFrame): El DataFrame filtrado con la RSRP media calculada para las medidas crowdsourced.\n",
    "- Returns:\n",
    "    - Histograma de la RSRP para el conjunto de datos crowdsourced y para el conjunto de datos del drive test en función de la banda de frecuencia"
   ]
  },
  {
   "cell_type": "code",
   "execution_count": null,
   "id": "b1084f8a",
   "metadata": {},
   "outputs": [],
   "source": [
    "# plot_rsrp_band_freq(rsrp_drive_test, rsrp_crowdsourced)"
   ]
  },
  {
   "cell_type": "markdown",
   "id": "b1d79eb5",
   "metadata": {},
   "source": [
    "# Histograma para comparar RSRQ en función de la banda de frecuencia entre drive test y crowdsourced"
   ]
  },
  {
   "cell_type": "markdown",
   "id": "596c2111",
   "metadata": {},
   "source": [
    "**plot_rsrq_band_freq:**\n",
    "- Argumentos: \n",
    "    - rsrq_drive_test (pandas.DataFrame): El DataFrame filtrado con la RSRQ media calculada para las medidas del drive test.\n",
    "    - rsrq_crowdsourced (pandas.DataFrame): El DataFrame filtrado con la RSRQ media calculada para las medidas crowdsourced.\n",
    "- Returns:\n",
    "    - Histograma de la RSRQ para el conjunto de datos crowdsourced y para el conjunto de datos del drive test en función de la banda de frecuencia"
   ]
  },
  {
   "cell_type": "code",
   "execution_count": null,
   "id": "7a61d86d",
   "metadata": {},
   "outputs": [],
   "source": [
    "# plot_rsrq_band_freq(rsrq_drive_test, rsrq_crowdsourced)"
   ]
  },
  {
   "cell_type": "markdown",
   "id": "fbabe753",
   "metadata": {},
   "source": [
    "# Boxplot para comparar RSRQ por franja horaria"
   ]
  },
  {
   "cell_type": "markdown",
   "id": "80b870d2",
   "metadata": {},
   "source": [
    "**plot_rsrq_boxplot_by_hour:**\n",
    "- Argumentos: \n",
    "    - rsrq_drive_test (pandas.DataFrame): El DataFrame filtrado con la RSRQ media calculada para las medidas del drive test.\n",
    "    - rsrq_crowdsourced (pandas.DataFrame): El DataFrame filtrado con la RSRQ media calculada para las medidas crowdsourced.\n",
    "- Returns:\n",
    "    - Boxplot de la RSRQ por franja horaria"
   ]
  },
  {
   "cell_type": "code",
   "execution_count": null,
   "id": "23532feb",
   "metadata": {},
   "outputs": [],
   "source": [
    "# plot_rsrq_boxplot_by_hour(rsrq_drive_test, rsrq_crowdsourced)"
   ]
  },
  {
   "cell_type": "markdown",
   "id": "fa55579f",
   "metadata": {},
   "source": [
    "# Gráfico de barras para comparar la desviación RSRQ por franja horaria"
   ]
  },
  {
   "cell_type": "markdown",
   "id": "d074d3c2",
   "metadata": {},
   "source": [
    "**plot_rsrq_std_by_hour:**\n",
    "- Argumentos: \n",
    "    - rsrq_drive_test (pandas.DataFrame): El DataFrame filtrado con la RSRQ media calculada para las medidas del drive test.\n",
    "    - rsrq_crowdsourced (pandas.DataFrame): El DataFrame filtrado con la RSRQ media calculada para las medidas crowdsourced.\n",
    "- Returns:\n",
    "    - Gráfico de barras con la desviación de la RSRQ por franja horaria"
   ]
  },
  {
   "cell_type": "code",
   "execution_count": null,
   "id": "8c6a898c",
   "metadata": {},
   "outputs": [],
   "source": [
    "# plot_rsrq_std_by_hour(rsrq_drive_test, rsrq_crowdsourced)"
   ]
  }
 ],
 "metadata": {
  "kernelspec": {
   "display_name": "Python 3 (ipykernel)",
   "language": "python",
   "name": "python3"
  },
  "language_info": {
   "codemirror_mode": {
    "name": "ipython",
    "version": 3
   },
   "file_extension": ".py",
   "mimetype": "text/x-python",
   "name": "python",
   "nbconvert_exporter": "python",
   "pygments_lexer": "ipython3",
   "version": "3.9.13"
  }
 },
 "nbformat": 4,
 "nbformat_minor": 5
}
