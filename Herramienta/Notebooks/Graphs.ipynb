{
 "cells": [
  {
   "cell_type": "code",
   "execution_count": null,
   "id": "260c816c",
   "metadata": {},
   "outputs": [],
   "source": [
    "import matplotlib.pyplot as plt\n",
    "import seaborn as sns\n",
    "import pandas as pd\n",
    "import ipywidgets as widgets\n",
    "from IPython.display import display\n",
    "import folium\n",
    "from folium.plugins import HeatMap"
   ]
  },
  {
   "cell_type": "code",
   "execution_count": null,
   "id": "ee486c4a",
   "metadata": {},
   "outputs": [],
   "source": [
    "palette = [(0.12156862745098039, 0.4666666666666667, 0.7058823529411765), (1.0, 0.4980392156862745, 0.054901960784313725)]\n",
    "def plot_rsrp(rsrp_drive_test, rsrp_crowdsourced):\n",
    "    plt.figure(figsize=(9, 5))\n",
    "    \n",
    "    sns.histplot(data=rsrp_drive_test['RSRP_media'], label='Drive Test', color=palette[0], kde=True, binrange=(-140, -43))\n",
    "    sns.histplot(data=rsrp_crowdsourced['RSRP_media'], label='Crowdsourced', color=palette[1], kde=True, binrange=(-140, -43))\n",
    "    \n",
    "    plt.title('Distribución de RSRP')\n",
    "    plt.ylabel('Frecuencia')\n",
    "    plt.xlabel('RSRP')\n",
    "    \n",
    "    plt.legend()\n",
    "    plt.show()"
   ]
  },
  {
   "cell_type": "code",
   "execution_count": null,
   "id": "232499ce",
   "metadata": {},
   "outputs": [],
   "source": [
    "def plot_rsrq(rsrq_drive_test, rsrq_crowdsourced):\n",
    "    plt.figure(figsize=(9, 5))\n",
    "    \n",
    "    sns.histplot(data=rsrq_drive_test['RSRQ_media'], label='Drive Test', color=palette[0], kde=True, binwidth = 1)\n",
    "    sns.histplot(data=rsrq_crowdsourced['RSRQ_media'], label='Crowdsourced', color=palette[1], kde=True, binwidth = 1)\n",
    "    \n",
    "    plt.title('Distribución de RSRQ')\n",
    "    plt.ylabel('Frecuencia')\n",
    "    plt.xlabel('RSRQ')\n",
    "    \n",
    "    plt.legend()\n",
    "    plt.show()"
   ]
  },
  {
   "cell_type": "code",
   "execution_count": null,
   "id": "c225c1ea",
   "metadata": {},
   "outputs": [],
   "source": [
    "def plot_rsrp_band_freq(df1, df2):\n",
    "    def update_plot(band_freq):\n",
    "        plt.figure(figsize=(9, 5))\n",
    "        \n",
    "        df1_band = df1[df1['BAND_FREQ'] == band_freq]\n",
    "        df2_band = df2[df2['BAND_FREQ'] == band_freq]\n",
    "        \n",
    "        sns.histplot(data=df1_band['RSRP_media'], label='Drive Tests', color=palette[0], kde=True, binrange=(-140, -43))\n",
    "        sns.histplot(data=df2_band['RSRP_media'], label='Crowdsourced', color=palette[1], kde=True, binrange=(-140, -43))\n",
    "        \n",
    "        plt.title(f'Distribución de RSRP con {band_freq}')\n",
    "        plt.ylabel('Frecuencia')\n",
    "        plt.xlabel('RSRP')\n",
    "        \n",
    "        plt.legend()\n",
    "        plt.show()\n",
    "\n",
    "    band_freq_options = sorted(df1['BAND_FREQ'].unique())\n",
    "\n",
    "    band_freq_widget = widgets.Dropdown(\n",
    "        options=band_freq_options,\n",
    "        description='Banda de Frecuencia:',\n",
    "        disabled=False,\n",
    "    )\n",
    "\n",
    "    interact = widgets.interact(update_plot, band_freq=band_freq_widget)"
   ]
  },
  {
   "cell_type": "code",
   "execution_count": null,
   "id": "8984e694",
   "metadata": {},
   "outputs": [],
   "source": [
    "def plot_rsrq_band_freq(df1, df2):\n",
    "    def update_plot(band_freq):\n",
    "        plt.figure(figsize=(9, 5))\n",
    "\n",
    "        df1_band = df1[df1['BAND_FREQ'] == band_freq]\n",
    "        df2_band = df2[df2['BAND_FREQ'] == band_freq]\n",
    "        \n",
    "        sns.histplot(data=df1_band['RSRQ_media'], label='Drive Test', color=palette[0], kde=True, binwidth=1)\n",
    "        sns.histplot(data=df2_band['RSRQ_media'], label='Crowdsourced', color=palette[1], kde=True, binwidth=1)\n",
    "        \n",
    "        plt.title(f'Distribución de RSRQ con {band_freq}')\n",
    "        plt.ylabel('Frecuencia')\n",
    "        plt.xlabel('RSRQ')\n",
    "        \n",
    "        plt.legend()\n",
    "        plt.show()\n",
    "\n",
    "    band_freq_options = sorted(df1['BAND_FREQ'].unique())\n",
    "\n",
    "    band_freq_widget = widgets.Dropdown(\n",
    "        options=band_freq_options,\n",
    "        description='Banda de Frecuencia:',\n",
    "        disabled=False,\n",
    "    )\n",
    "\n",
    "    interact = widgets.interact(update_plot, band_freq=band_freq_widget)"
   ]
  },
  {
   "cell_type": "code",
   "execution_count": null,
   "id": "64c7d3ee",
   "metadata": {},
   "outputs": [],
   "source": [
    "def plot_rsrq_boxplot_by_hour(drive_test_df, crowdsourced_df):\n",
    "\n",
    "    drive_test_df['Tipo'] = 'Drive Test'\n",
    "    crowdsourced_df['Tipo'] = 'Crowdsourced'\n",
    "\n",
    "    combined_df = pd.concat([drive_test_df, crowdsourced_df], ignore_index=True)\n",
    "\n",
    "    plt.figure(figsize=(12, 6))\n",
    "    sns.boxplot(x='Franja_horaria', y='RSRQ_media', hue='Tipo', data=combined_df, palette=palette)\n",
    "    plt.title('Distribución de RSRQ por Franja Horaria')\n",
    "    plt.xlabel('Franja Horaria')\n",
    "    plt.ylabel('RSRQ')\n",
    "    plt.legend(title='Tipo')\n",
    "    plt.show()"
   ]
  },
  {
   "cell_type": "code",
   "execution_count": null,
   "id": "5d425b36",
   "metadata": {},
   "outputs": [],
   "source": [
    "def plot_rsrq_std_by_hour(drive_test_df, crowdsourced_df):\n",
    "\n",
    "    drive_test_df['Tipo'] = 'Drive Test'\n",
    "    crowdsourced_df['Tipo'] = 'Crowdsourced'\n",
    "\n",
    "    combined_df = pd.concat([drive_test_df, crowdsourced_df], ignore_index=True)\n",
    "\n",
    "    std_by_hour = combined_df.groupby(['Franja_horaria', 'Tipo'])['RSRQ_media'].std().reset_index()\n",
    "\n",
    "    plt.figure(figsize=(12, 6))\n",
    "    sns.barplot(x='Franja_horaria', y='RSRQ_media', hue='Tipo', data=std_by_hour, palette={'Drive Test': palette[0], 'Crowdsourced': palette[1]})\n",
    "    plt.title('Desviación Estándar de RSRQ por Franja Horaria')\n",
    "    plt.xlabel('Franja Horaria')\n",
    "    plt.ylabel('Desviación Estándar de RSRQ')\n",
    "    plt.xticks(rotation=45)\n",
    "    plt.legend(title='Tipo')\n",
    "    plt.show()"
   ]
  }
 ],
 "metadata": {
  "kernelspec": {
   "display_name": "Python 3 (ipykernel)",
   "language": "python",
   "name": "python3"
  },
  "language_info": {
   "codemirror_mode": {
    "name": "ipython",
    "version": 3
   },
   "file_extension": ".py",
   "mimetype": "text/x-python",
   "name": "python",
   "nbconvert_exporter": "python",
   "pygments_lexer": "ipython3",
   "version": "3.9.13"
  }
 },
 "nbformat": 4,
 "nbformat_minor": 5
}
